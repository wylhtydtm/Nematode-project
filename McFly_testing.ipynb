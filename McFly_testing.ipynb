{
  "nbformat": 4,
  "nbformat_minor": 0,
  "metadata": {
    "colab": {
      "name": "McFly.ipynb",
      "provenance": [],
      "collapsed_sections": [],
      "mount_file_id": "1Vj3mjlVBY_sh3UOv58OGL8sKhcgaSi45",
      "authorship_tag": "ABX9TyPxH59a2JP+Jaiw40+QzWdv",
      "include_colab_link": true
    },
    "kernelspec": {
      "name": "python3",
      "display_name": "Python 3"
    }
  },
  "cells": [
    {
      "cell_type": "markdown",
      "metadata": {
        "id": "view-in-github",
        "colab_type": "text"
      },
      "source": [
        "<a href=\"https://colab.research.google.com/github/wylhtydtm/Nematode-project/blob/master/McFly_testing.ipynb\" target=\"_parent\"><img src=\"https://colab.research.google.com/assets/colab-badge.svg\" alt=\"Open In Colab\"/></a>"
      ]
    },
    {
      "cell_type": "code",
      "metadata": {
        "id": "N-DRyIVCFzSm",
        "colab_type": "code",
        "colab": {}
      },
      "source": [
        "import numpy as np\n",
        "import h5py\n",
        "import pandas as pd\n",
        "import tensorflow as tf\n",
        "import tables\n",
        "from sklearn import preprocessing\n",
        "from numpy import dstack\n",
        "import tensorflow as tf"
      ],
      "execution_count": null,
      "outputs": []
    },
    {
      "cell_type": "code",
      "metadata": {
        "id": "N9tkhUKRqxs0",
        "colab_type": "code",
        "colab": {}
      },
      "source": [
        "!pip install tensorflow==2.0.0"
      ],
      "execution_count": null,
      "outputs": []
    },
    {
      "cell_type": "code",
      "metadata": {
        "id": "WfK7IwR6qu-l",
        "colab_type": "code",
        "colab": {}
      },
      "source": [
        "print(tf.__version__)"
      ],
      "execution_count": null,
      "outputs": []
    },
    {
      "cell_type": "code",
      "metadata": {
        "id": "Ckpr4_mgHCuP",
        "colab_type": "code",
        "colab": {}
      },
      "source": [
        "!pip install mcfly\n",
        "import mcfly"
      ],
      "execution_count": null,
      "outputs": []
    },
    {
      "cell_type": "markdown",
      "metadata": {
        "id": "MslK5p05CoaN",
        "colab_type": "text"
      },
      "source": [
        ""
      ]
    },
    {
      "cell_type": "code",
      "metadata": {
        "id": "YqA_4AT7HDN5",
        "colab_type": "code",
        "colab": {}
      },
      "source": [
        "hf = h5py.File('/content/drive/My Drive/McFly_test.hdf5', 'r')"
      ],
      "execution_count": null,
      "outputs": []
    },
    {
      "cell_type": "code",
      "metadata": {
        "id": "W70HGgj8n-TQ",
        "colab_type": "code",
        "colab": {
          "base_uri": "https://localhost:8080/",
          "height": 34
        },
        "outputId": "38e23d90-c0c2-4238-cd2c-fdf5e5a56b49"
      },
      "source": [
        "datasetnames= list(hf.keys())\n",
        "print(datasetnames)\n"
      ],
      "execution_count": null,
      "outputs": [
        {
          "output_type": "stream",
          "text": [
            "['MOA_0', 'MOA_1', 'MOA_10', 'MOA_11', 'MOA_12', 'MOA_13', 'MOA_17', 'MOA_2', 'MOA_23', 'MOA_3', 'MOA_4', 'MOA_6', 'MOA_7', 'MOA_9']\n"
          ],
          "name": "stdout"
        }
      ]
    },
    {
      "cell_type": "code",
      "metadata": {
        "id": "UmqZbHcdQeCd",
        "colab_type": "code",
        "colab": {}
      },
      "source": [
        "data = []\n",
        "with tables.File('/content/drive/My Drive/McFly_test.hdf5', 'r') as fid:\n",
        "     for k in datasetnames:\n",
        "      load_class = pd.DataFrame(fid.get_node('/'+k).read())\n",
        "      data.append(load_class)\n",
        "      \n",
        "fid.close()"
      ],
      "execution_count": null,
      "outputs": []
    },
    {
      "cell_type": "markdown",
      "metadata": {
        "id": "5Z8ABzscVGVT",
        "colab_type": "text"
      },
      "source": [
        ""
      ]
    },
    {
      "cell_type": "code",
      "metadata": {
        "id": "nhuWLbkdR-gc",
        "colab_type": "code",
        "colab": {}
      },
      "source": [
        "data_total=pd.concat(data,axis=0, ignore_index=True)"
      ],
      "execution_count": null,
      "outputs": []
    },
    {
      "cell_type": "code",
      "metadata": {
        "id": "7vLW3KMtXoOl",
        "colab_type": "code",
        "colab": {}
      },
      "source": [
        "print(data_total)"
      ],
      "execution_count": null,
      "outputs": []
    },
    {
      "cell_type": "code",
      "metadata": {
        "id": "cOVV1iU7cW38",
        "colab_type": "code",
        "colab": {}
      },
      "source": [
        "scaled_feat= data_total.copy()\n",
        "feats=data_total[[1,2, 3,4, 5, 6, 7]]"
      ],
      "execution_count": null,
      "outputs": []
    },
    {
      "cell_type": "code",
      "metadata": {
        "id": "2RUT3-7JeHok",
        "colab_type": "code",
        "colab": {}
      },
      "source": [
        "scaler = preprocessing.StandardScaler().fit(feats.values)\n",
        "features = scaler.transform(feats.values)\n"
      ],
      "execution_count": null,
      "outputs": []
    },
    {
      "cell_type": "code",
      "metadata": {
        "id": "TaMMBW6tC84U",
        "colab_type": "code",
        "colab": {}
      },
      "source": [
        "data_total.min()"
      ],
      "execution_count": null,
      "outputs": []
    },
    {
      "cell_type": "code",
      "metadata": {
        "id": "7Ga1x_CTfVUo",
        "colab_type": "code",
        "colab": {}
      },
      "source": [
        "col_names=[1,2,3,4,5,6,7]\n",
        "scaled_feat[col_names] = features\n",
        "print(scaled_feat)"
      ],
      "execution_count": null,
      "outputs": []
    },
    {
      "cell_type": "code",
      "metadata": {
        "id": "3dCti9SVoRPy",
        "colab_type": "code",
        "colab": {}
      },
      "source": [
        "def split_sequences( sequences, n_steps):\n",
        "  X, y = list(), list()\n",
        "  L= len(sequences)\n",
        "  for i in range(0, L, n_steps):\n",
        "    seq_x, seq_y = sequences.iloc[i:i+n_steps, 1:8], sequences.iloc[i,-1]\n",
        "    X.append(seq_x)\n",
        "    y.append(seq_y)\n",
        "  return X, y\n",
        "  "
      ],
      "execution_count": null,
      "outputs": []
    },
    {
      "cell_type": "code",
      "metadata": {
        "id": "88TDplN7QdOP",
        "colab_type": "code",
        "colab": {}
      },
      "source": [
        "data_input, data_output = split_sequences(data_total, 876)"
      ],
      "execution_count": null,
      "outputs": []
    },
    {
      "cell_type": "code",
      "metadata": {
        "id": "jIiy5dz3zfFF",
        "colab_type": "code",
        "colab": {}
      },
      "source": [
        "print(len(data_input))\n",
        "print(len(data_output))"
      ],
      "execution_count": null,
      "outputs": []
    },
    {
      "cell_type": "code",
      "metadata": {
        "id": "oMlXzUYHzi0m",
        "colab_type": "code",
        "colab": {}
      },
      "source": [
        "data_input[0]"
      ],
      "execution_count": null,
      "outputs": []
    },
    {
      "cell_type": "code",
      "metadata": {
        "id": "cEKwJQBoYBbh",
        "colab_type": "code",
        "colab": {}
      },
      "source": [
        "from sklearn.utils import shuffle"
      ],
      "execution_count": null,
      "outputs": []
    },
    {
      "cell_type": "code",
      "metadata": {
        "id": "GVnRiY30yS5T",
        "colab_type": "code",
        "colab": {}
      },
      "source": [
        "data_input, data_output=(shuffle(data_input, data_output))"
      ],
      "execution_count": null,
      "outputs": []
    },
    {
      "cell_type": "code",
      "metadata": {
        "id": "QCIvcBSrBVcI",
        "colab_type": "code",
        "colab": {}
      },
      "source": [
        "print(data_input[0])\n",
        "data_input=dstack(data_input)"
      ],
      "execution_count": null,
      "outputs": []
    },
    {
      "cell_type": "code",
      "metadata": {
        "id": "aC0qUT_pCZEU",
        "colab_type": "code",
        "colab": {}
      },
      "source": [
        "data_input= data_input.transpose(2,0,1)"
      ],
      "execution_count": null,
      "outputs": []
    },
    {
      "cell_type": "code",
      "metadata": {
        "id": "nW6nPh40DZUj",
        "colab_type": "code",
        "colab": {}
      },
      "source": [
        "data_input.shape\n",
        "print(data_input[0:5].shape)"
      ],
      "execution_count": null,
      "outputs": []
    },
    {
      "cell_type": "code",
      "metadata": {
        "id": "EJpBBimPpHFg",
        "colab_type": "code",
        "colab": {}
      },
      "source": [
        "labels_unique= list(set(data_output))\n",
        "print(labels_unique)\n",
        "print(len(data_output))"
      ],
      "execution_count": null,
      "outputs": []
    },
    {
      "cell_type": "code",
      "metadata": {
        "id": "7HGzB2ICGKcU",
        "colab_type": "code",
        "colab": {}
      },
      "source": [
        "train_size= 3280*0.75\n",
        "val_size= 3280*0.85\n",
        "\n",
        "X_train, X_val, X_test=data_input[0:2640],data_input[2640:2788], data_input[2788:3281]\n",
        "y_train, y_val, y_test=data_output[0:2640],data_output[2640:2788], data_output[2788:3281]"
      ],
      "execution_count": null,
      "outputs": []
    },
    {
      "cell_type": "code",
      "metadata": {
        "id": "atBqirnJBMAK",
        "colab_type": "code",
        "colab": {}
      },
      "source": [
        "lb = preprocessing.LabelBinarizer()\n",
        "lb.fit(labels_unique)\n",
        "lb.classes_"
      ],
      "execution_count": null,
      "outputs": []
    },
    {
      "cell_type": "code",
      "metadata": {
        "id": "laurPXVYGJta",
        "colab_type": "code",
        "colab": {
          "base_uri": "https://localhost:8080/",
          "height": 51
        },
        "outputId": "d95a9371-82b5-4cf5-8a91-4d223fcf1e72"
      },
      "source": [
        "print(X_train.shape)\n",
        "print(len(y_train))"
      ],
      "execution_count": null,
      "outputs": [
        {
          "output_type": "stream",
          "text": [
            "(2640, 876, 7)\n",
            "2640\n"
          ],
          "name": "stdout"
        }
      ]
    },
    {
      "cell_type": "code",
      "metadata": {
        "id": "dw3cfmPKPip3",
        "colab_type": "code",
        "colab": {}
      },
      "source": [
        "y_train_binary = lb.fit_transform(y_train)\n",
        "y_val_binary = lb.fit_transform(y_val)\n",
        "y_test_binary = lb.fit_transform(y_test)\n",
        "\n",
        "num_classes = y_train_binary.shape[1]"
      ],
      "execution_count": null,
      "outputs": []
    },
    {
      "cell_type": "code",
      "metadata": {
        "id": "t4O0RHwvPmnL",
        "colab_type": "code",
        "colab": {
          "base_uri": "https://localhost:8080/",
          "height": 51
        },
        "outputId": "ac64a143-9e11-41cd-c93e-039fbd19212f"
      },
      "source": [
        "print(num_classes)\n",
        "print(y_train_binary[0])"
      ],
      "execution_count": null,
      "outputs": [
        {
          "output_type": "stream",
          "text": [
            "14\n",
            "[0 0 0 1 0 0 0 0 0 0 0 0 0 0]\n"
          ],
          "name": "stdout"
        }
      ]
    },
    {
      "cell_type": "code",
      "metadata": {
        "id": "C8frLfiePvCb",
        "colab_type": "code",
        "colab": {
          "base_uri": "https://localhost:8080/",
          "height": 102
        },
        "outputId": "bd57ba83-2fb3-4205-f82c-d877d4d0e21e"
      },
      "source": [
        "#Mcfly create models by random research. We generate 8 models to keep the training short for the test\n",
        "metric = 'accuracy'\n",
        "models = mcfly.modelgen.generate_models(X_train.shape,\n",
        "                                        number_of_classes=num_classes,\n",
        "                                        number_of_models = 8,\n",
        "                                        model_types=['CNN','DeepConvLSTM','InceptionTime'],\n",
        "                                        metrics=[metric],\n",
        "                                        deepconvlstm_max_conv_layers=2,\n",
        "                                        deepconvlstm_min_lstm_dims=1,\n",
        "                                        deepconvlstm_max_lstm_dims=5,\n",
        "                                        IT_max_network_dept=4)\n"
      ],
      "execution_count": null,
      "outputs": [
        {
          "output_type": "stream",
          "text": [
            "The value of model_types is set from ['CNN', 'DeepConvLSTM', 'ResNet', 'InceptionTime'] (default) to ['CNN', 'DeepConvLSTM', 'InceptionTime']\n",
            "The value of metrics is set from ['accuracy'] (default) to ['accuracy']\n",
            "The value of deepconvlstm_max_conv_layers is set from 10 (default) to 2\n",
            "The value of deepconvlstm_min_lstm_dims is set from 10 (default) to 1\n",
            "The value of deepconvlstm_max_lstm_dims is set from 100 (default) to 5\n"
          ],
          "name": "stdout"
        }
      ]
    },
    {
      "cell_type": "code",
      "metadata": {
        "id": "ZqARLU7zP5fw",
        "colab_type": "code",
        "colab": {
          "base_uri": "https://localhost:8080/",
          "height": 1000
        },
        "outputId": "e737c0d5-3279-45b6-93aa-5d91ee974692"
      },
      "source": [
        "# Inspect the model selected\n",
        "models_to_print = range(len(models))\n",
        "for i, item in enumerate(models):\n",
        "    if i in models_to_print:\n",
        "        model, params, model_types = item\n",
        "        print(\"-------------------------------------------------------------------------------------------------------\")\n",
        "        print(\"Model \" + str(i))\n",
        "        print(\" \")\n",
        "        print(\"Hyperparameters:\")\n",
        "        print(params)\n",
        "        print(\" \")\n",
        "        print(\"Model description:\")\n",
        "        model.summary()\n",
        "        print(\" \")\n",
        "        print(\"Model type:\")\n",
        "        print(model_types)\n",
        "        print(\" \")"
      ],
      "execution_count": null,
      "outputs": [
        {
          "output_type": "stream",
          "text": [
            "-------------------------------------------------------------------------------------------------------\n",
            "Model 0\n",
            " \n",
            "Hyperparameters:\n",
            "{'learning_rate': 0.06387882555774206, 'regularization_rate': 0.0010564967583817973, 'filters': array([73, 96, 89, 35, 29, 81]), 'fc_hidden_nodes': 1741}\n",
            " \n",
            "Model description:\n",
            "Model: \"sequential_4\"\n",
            "_________________________________________________________________\n",
            "Layer (type)                 Output Shape              Param #   \n",
            "=================================================================\n",
            "batch_normalization_41 (Batc (None, 876, 7)            28        \n",
            "_________________________________________________________________\n",
            "conv1d_106 (Conv1D)          (None, 876, 73)           1606      \n",
            "_________________________________________________________________\n",
            "batch_normalization_42 (Batc (None, 876, 73)           292       \n",
            "_________________________________________________________________\n",
            "activation_37 (Activation)   (None, 876, 73)           0         \n",
            "_________________________________________________________________\n",
            "conv1d_107 (Conv1D)          (None, 876, 96)           21120     \n",
            "_________________________________________________________________\n",
            "batch_normalization_43 (Batc (None, 876, 96)           384       \n",
            "_________________________________________________________________\n",
            "activation_38 (Activation)   (None, 876, 96)           0         \n",
            "_________________________________________________________________\n",
            "conv1d_108 (Conv1D)          (None, 876, 89)           25721     \n",
            "_________________________________________________________________\n",
            "batch_normalization_44 (Batc (None, 876, 89)           356       \n",
            "_________________________________________________________________\n",
            "activation_39 (Activation)   (None, 876, 89)           0         \n",
            "_________________________________________________________________\n",
            "conv1d_109 (Conv1D)          (None, 876, 35)           9380      \n",
            "_________________________________________________________________\n",
            "batch_normalization_45 (Batc (None, 876, 35)           140       \n",
            "_________________________________________________________________\n",
            "activation_40 (Activation)   (None, 876, 35)           0         \n",
            "_________________________________________________________________\n",
            "conv1d_110 (Conv1D)          (None, 876, 29)           3074      \n",
            "_________________________________________________________________\n",
            "batch_normalization_46 (Batc (None, 876, 29)           116       \n",
            "_________________________________________________________________\n",
            "activation_41 (Activation)   (None, 876, 29)           0         \n",
            "_________________________________________________________________\n",
            "conv1d_111 (Conv1D)          (None, 876, 81)           7128      \n",
            "_________________________________________________________________\n",
            "batch_normalization_47 (Batc (None, 876, 81)           324       \n",
            "_________________________________________________________________\n",
            "activation_42 (Activation)   (None, 876, 81)           0         \n",
            "_________________________________________________________________\n",
            "flatten (Flatten)            (None, 70956)             0         \n",
            "_________________________________________________________________\n",
            "dense_8 (Dense)              (None, 1741)              123536137 \n",
            "_________________________________________________________________\n",
            "activation_43 (Activation)   (None, 1741)              0         \n",
            "_________________________________________________________________\n",
            "dense_9 (Dense)              (None, 14)                24388     \n",
            "_________________________________________________________________\n",
            "batch_normalization_48 (Batc (None, 14)                56        \n",
            "_________________________________________________________________\n",
            "activation_44 (Activation)   (None, 14)                0         \n",
            "=================================================================\n",
            "Total params: 123,630,250\n",
            "Trainable params: 123,629,402\n",
            "Non-trainable params: 848\n",
            "_________________________________________________________________\n",
            " \n",
            "Model type:\n",
            "CNN\n",
            " \n",
            "-------------------------------------------------------------------------------------------------------\n",
            "Model 1\n",
            " \n",
            "Hyperparameters:\n",
            "{'learning_rate': 0.012181703432873442, 'regularization_rate': 0.006379682543807668, 'filters': [59], 'lstm_dims': [3]}\n",
            " \n",
            "Model description:\n",
            "Model: \"sequential_5\"\n",
            "_________________________________________________________________\n",
            "Layer (type)                 Output Shape              Param #   \n",
            "=================================================================\n",
            "batch_normalization_49 (Batc (None, 876, 7)            28        \n",
            "_________________________________________________________________\n",
            "reshape_8 (Reshape)          (None, 876, 7, 1)         0         \n",
            "_________________________________________________________________\n",
            "conv2d_7 (Conv2D)            (None, 876, 7, 59)        236       \n",
            "_________________________________________________________________\n",
            "batch_normalization_50 (Batc (None, 876, 7, 59)        236       \n",
            "_________________________________________________________________\n",
            "activation_45 (Activation)   (None, 876, 7, 59)        0         \n",
            "_________________________________________________________________\n",
            "reshape_9 (Reshape)          (None, 876, 413)          0         \n",
            "_________________________________________________________________\n",
            "lstm_10 (LSTM)               (None, 876, 3)            5004      \n",
            "_________________________________________________________________\n",
            "dropout_4 (Dropout)          (None, 876, 3)            0         \n",
            "_________________________________________________________________\n",
            "time_distributed_4 (TimeDist (None, 876, 14)           56        \n",
            "_________________________________________________________________\n",
            "activation_46 (Activation)   (None, 876, 14)           0         \n",
            "_________________________________________________________________\n",
            "lambda_4 (Lambda)            (None, 14)                0         \n",
            "=================================================================\n",
            "Total params: 5,560\n",
            "Trainable params: 5,428\n",
            "Non-trainable params: 132\n",
            "_________________________________________________________________\n",
            " \n",
            "Model type:\n",
            "DeepConvLSTM\n",
            " \n",
            "-------------------------------------------------------------------------------------------------------\n",
            "Model 2\n",
            " \n",
            "Hyperparameters:\n",
            "{'learning_rate': 0.04214715157110842, 'regularization_rate': 0.0001416811045082784, 'network_depth': 4, 'filters_number': 73, 'max_kernel_size': 56}\n",
            " \n",
            "Model description:\n",
            "Model: \"model_4\"\n",
            "__________________________________________________________________________________________________\n",
            "Layer (type)                    Output Shape         Param #     Connected to                     \n",
            "==================================================================================================\n",
            "input_5 (InputLayer)            [(None, 876, 7)]     0                                            \n",
            "__________________________________________________________________________________________________\n",
            "batch_normalization_51 (BatchNo (None, 876, 7)       28          input_5[0][0]                    \n",
            "__________________________________________________________________________________________________\n",
            "conv1d_112 (Conv1D)             (None, 876, 32)      224         batch_normalization_51[0][0]     \n",
            "__________________________________________________________________________________________________\n",
            "max_pooling1d_20 (MaxPooling1D) (None, 876, 7)       0           batch_normalization_51[0][0]     \n",
            "__________________________________________________________________________________________________\n",
            "conv1d_113 (Conv1D)             (None, 876, 73)      130816      conv1d_112[0][0]                 \n",
            "__________________________________________________________________________________________________\n",
            "conv1d_114 (Conv1D)             (None, 876, 73)      65408       conv1d_112[0][0]                 \n",
            "__________________________________________________________________________________________________\n",
            "conv1d_115 (Conv1D)             (None, 876, 73)      32704       conv1d_112[0][0]                 \n",
            "__________________________________________________________________________________________________\n",
            "conv1d_116 (Conv1D)             (None, 876, 73)      511         max_pooling1d_20[0][0]           \n",
            "__________________________________________________________________________________________________\n",
            "concatenate_20 (Concatenate)    (None, 876, 292)     0           conv1d_113[0][0]                 \n",
            "                                                                 conv1d_114[0][0]                 \n",
            "                                                                 conv1d_115[0][0]                 \n",
            "                                                                 conv1d_116[0][0]                 \n",
            "__________________________________________________________________________________________________\n",
            "batch_normalization_52 (BatchNo (None, 876, 292)     1168        concatenate_20[0][0]             \n",
            "__________________________________________________________________________________________________\n",
            "activation_47 (Activation)      (None, 876, 292)     0           batch_normalization_52[0][0]     \n",
            "__________________________________________________________________________________________________\n",
            "conv1d_117 (Conv1D)             (None, 876, 32)      9344        activation_47[0][0]              \n",
            "__________________________________________________________________________________________________\n",
            "max_pooling1d_21 (MaxPooling1D) (None, 876, 292)     0           activation_47[0][0]              \n",
            "__________________________________________________________________________________________________\n",
            "conv1d_118 (Conv1D)             (None, 876, 73)      130816      conv1d_117[0][0]                 \n",
            "__________________________________________________________________________________________________\n",
            "conv1d_119 (Conv1D)             (None, 876, 73)      65408       conv1d_117[0][0]                 \n",
            "__________________________________________________________________________________________________\n",
            "conv1d_120 (Conv1D)             (None, 876, 73)      32704       conv1d_117[0][0]                 \n",
            "__________________________________________________________________________________________________\n",
            "conv1d_121 (Conv1D)             (None, 876, 73)      21316       max_pooling1d_21[0][0]           \n",
            "__________________________________________________________________________________________________\n",
            "concatenate_21 (Concatenate)    (None, 876, 292)     0           conv1d_118[0][0]                 \n",
            "                                                                 conv1d_119[0][0]                 \n",
            "                                                                 conv1d_120[0][0]                 \n",
            "                                                                 conv1d_121[0][0]                 \n",
            "__________________________________________________________________________________________________\n",
            "batch_normalization_53 (BatchNo (None, 876, 292)     1168        concatenate_21[0][0]             \n",
            "__________________________________________________________________________________________________\n",
            "activation_48 (Activation)      (None, 876, 292)     0           batch_normalization_53[0][0]     \n",
            "__________________________________________________________________________________________________\n",
            "conv1d_122 (Conv1D)             (None, 876, 32)      9344        activation_48[0][0]              \n",
            "__________________________________________________________________________________________________\n",
            "max_pooling1d_22 (MaxPooling1D) (None, 876, 292)     0           activation_48[0][0]              \n",
            "__________________________________________________________________________________________________\n",
            "conv1d_123 (Conv1D)             (None, 876, 73)      130816      conv1d_122[0][0]                 \n",
            "__________________________________________________________________________________________________\n",
            "conv1d_124 (Conv1D)             (None, 876, 73)      65408       conv1d_122[0][0]                 \n",
            "__________________________________________________________________________________________________\n",
            "conv1d_125 (Conv1D)             (None, 876, 73)      32704       conv1d_122[0][0]                 \n",
            "__________________________________________________________________________________________________\n",
            "conv1d_126 (Conv1D)             (None, 876, 73)      21316       max_pooling1d_22[0][0]           \n",
            "__________________________________________________________________________________________________\n",
            "concatenate_22 (Concatenate)    (None, 876, 292)     0           conv1d_123[0][0]                 \n",
            "                                                                 conv1d_124[0][0]                 \n",
            "                                                                 conv1d_125[0][0]                 \n",
            "                                                                 conv1d_126[0][0]                 \n",
            "__________________________________________________________________________________________________\n",
            "conv1d_127 (Conv1D)             (None, 876, 292)     2044        batch_normalization_51[0][0]     \n",
            "__________________________________________________________________________________________________\n",
            "batch_normalization_54 (BatchNo (None, 876, 292)     1168        concatenate_22[0][0]             \n",
            "__________________________________________________________________________________________________\n",
            "batch_normalization_55 (BatchNo (None, 876, 292)     1168        conv1d_127[0][0]                 \n",
            "__________________________________________________________________________________________________\n",
            "activation_49 (Activation)      (None, 876, 292)     0           batch_normalization_54[0][0]     \n",
            "__________________________________________________________________________________________________\n",
            "add_6 (Add)                     (None, 876, 292)     0           batch_normalization_55[0][0]     \n",
            "                                                                 activation_49[0][0]              \n",
            "__________________________________________________________________________________________________\n",
            "activation_50 (Activation)      (None, 876, 292)     0           add_6[0][0]                      \n",
            "__________________________________________________________________________________________________\n",
            "conv1d_128 (Conv1D)             (None, 876, 32)      9344        activation_50[0][0]              \n",
            "__________________________________________________________________________________________________\n",
            "max_pooling1d_23 (MaxPooling1D) (None, 876, 292)     0           activation_50[0][0]              \n",
            "__________________________________________________________________________________________________\n",
            "conv1d_129 (Conv1D)             (None, 876, 73)      130816      conv1d_128[0][0]                 \n",
            "__________________________________________________________________________________________________\n",
            "conv1d_130 (Conv1D)             (None, 876, 73)      65408       conv1d_128[0][0]                 \n",
            "__________________________________________________________________________________________________\n",
            "conv1d_131 (Conv1D)             (None, 876, 73)      32704       conv1d_128[0][0]                 \n",
            "__________________________________________________________________________________________________\n",
            "conv1d_132 (Conv1D)             (None, 876, 73)      21316       max_pooling1d_23[0][0]           \n",
            "__________________________________________________________________________________________________\n",
            "concatenate_23 (Concatenate)    (None, 876, 292)     0           conv1d_129[0][0]                 \n",
            "                                                                 conv1d_130[0][0]                 \n",
            "                                                                 conv1d_131[0][0]                 \n",
            "                                                                 conv1d_132[0][0]                 \n",
            "__________________________________________________________________________________________________\n",
            "batch_normalization_56 (BatchNo (None, 876, 292)     1168        concatenate_23[0][0]             \n",
            "__________________________________________________________________________________________________\n",
            "activation_51 (Activation)      (None, 876, 292)     0           batch_normalization_56[0][0]     \n",
            "__________________________________________________________________________________________________\n",
            "global_average_pooling1d_4 (Glo (None, 292)          0           activation_51[0][0]              \n",
            "__________________________________________________________________________________________________\n",
            "dense_11 (Dense)                (None, 14)           4102        global_average_pooling1d_4[0][0] \n",
            "==================================================================================================\n",
            "Total params: 1,020,441\n",
            "Trainable params: 1,017,507\n",
            "Non-trainable params: 2,934\n",
            "__________________________________________________________________________________________________\n",
            " \n",
            "Model type:\n",
            "InceptionTime\n",
            " \n",
            "-------------------------------------------------------------------------------------------------------\n",
            "Model 3\n",
            " \n",
            "Hyperparameters:\n",
            "{'learning_rate': 0.035150623122723754, 'regularization_rate': 0.0004735415980407279, 'network_depth': 4, 'filters_number': 95, 'max_kernel_size': 86}\n",
            " \n",
            "Model description:\n",
            "Model: \"model_5\"\n",
            "__________________________________________________________________________________________________\n",
            "Layer (type)                    Output Shape         Param #     Connected to                     \n",
            "==================================================================================================\n",
            "input_6 (InputLayer)            [(None, 876, 7)]     0                                            \n",
            "__________________________________________________________________________________________________\n",
            "batch_normalization_57 (BatchNo (None, 876, 7)       28          input_6[0][0]                    \n",
            "__________________________________________________________________________________________________\n",
            "conv1d_133 (Conv1D)             (None, 876, 32)      224         batch_normalization_57[0][0]     \n",
            "__________________________________________________________________________________________________\n",
            "max_pooling1d_24 (MaxPooling1D) (None, 876, 7)       0           batch_normalization_57[0][0]     \n",
            "__________________________________________________________________________________________________\n",
            "conv1d_134 (Conv1D)             (None, 876, 95)      261440      conv1d_133[0][0]                 \n",
            "__________________________________________________________________________________________________\n",
            "conv1d_135 (Conv1D)             (None, 876, 95)      130720      conv1d_133[0][0]                 \n",
            "__________________________________________________________________________________________________\n",
            "conv1d_136 (Conv1D)             (None, 876, 95)      63840       conv1d_133[0][0]                 \n",
            "__________________________________________________________________________________________________\n",
            "conv1d_137 (Conv1D)             (None, 876, 95)      665         max_pooling1d_24[0][0]           \n",
            "__________________________________________________________________________________________________\n",
            "concatenate_24 (Concatenate)    (None, 876, 380)     0           conv1d_134[0][0]                 \n",
            "                                                                 conv1d_135[0][0]                 \n",
            "                                                                 conv1d_136[0][0]                 \n",
            "                                                                 conv1d_137[0][0]                 \n",
            "__________________________________________________________________________________________________\n",
            "batch_normalization_58 (BatchNo (None, 876, 380)     1520        concatenate_24[0][0]             \n",
            "__________________________________________________________________________________________________\n",
            "activation_52 (Activation)      (None, 876, 380)     0           batch_normalization_58[0][0]     \n",
            "__________________________________________________________________________________________________\n",
            "conv1d_138 (Conv1D)             (None, 876, 32)      12160       activation_52[0][0]              \n",
            "__________________________________________________________________________________________________\n",
            "max_pooling1d_25 (MaxPooling1D) (None, 876, 380)     0           activation_52[0][0]              \n",
            "__________________________________________________________________________________________________\n",
            "conv1d_139 (Conv1D)             (None, 876, 95)      261440      conv1d_138[0][0]                 \n",
            "__________________________________________________________________________________________________\n",
            "conv1d_140 (Conv1D)             (None, 876, 95)      130720      conv1d_138[0][0]                 \n",
            "__________________________________________________________________________________________________\n",
            "conv1d_141 (Conv1D)             (None, 876, 95)      63840       conv1d_138[0][0]                 \n",
            "__________________________________________________________________________________________________\n",
            "conv1d_142 (Conv1D)             (None, 876, 95)      36100       max_pooling1d_25[0][0]           \n",
            "__________________________________________________________________________________________________\n",
            "concatenate_25 (Concatenate)    (None, 876, 380)     0           conv1d_139[0][0]                 \n",
            "                                                                 conv1d_140[0][0]                 \n",
            "                                                                 conv1d_141[0][0]                 \n",
            "                                                                 conv1d_142[0][0]                 \n",
            "__________________________________________________________________________________________________\n",
            "batch_normalization_59 (BatchNo (None, 876, 380)     1520        concatenate_25[0][0]             \n",
            "__________________________________________________________________________________________________\n",
            "activation_53 (Activation)      (None, 876, 380)     0           batch_normalization_59[0][0]     \n",
            "__________________________________________________________________________________________________\n",
            "conv1d_143 (Conv1D)             (None, 876, 32)      12160       activation_53[0][0]              \n",
            "__________________________________________________________________________________________________\n",
            "max_pooling1d_26 (MaxPooling1D) (None, 876, 380)     0           activation_53[0][0]              \n",
            "__________________________________________________________________________________________________\n",
            "conv1d_144 (Conv1D)             (None, 876, 95)      261440      conv1d_143[0][0]                 \n",
            "__________________________________________________________________________________________________\n",
            "conv1d_145 (Conv1D)             (None, 876, 95)      130720      conv1d_143[0][0]                 \n",
            "__________________________________________________________________________________________________\n",
            "conv1d_146 (Conv1D)             (None, 876, 95)      63840       conv1d_143[0][0]                 \n",
            "__________________________________________________________________________________________________\n",
            "conv1d_147 (Conv1D)             (None, 876, 95)      36100       max_pooling1d_26[0][0]           \n",
            "__________________________________________________________________________________________________\n",
            "concatenate_26 (Concatenate)    (None, 876, 380)     0           conv1d_144[0][0]                 \n",
            "                                                                 conv1d_145[0][0]                 \n",
            "                                                                 conv1d_146[0][0]                 \n",
            "                                                                 conv1d_147[0][0]                 \n",
            "__________________________________________________________________________________________________\n",
            "conv1d_148 (Conv1D)             (None, 876, 380)     2660        batch_normalization_57[0][0]     \n",
            "__________________________________________________________________________________________________\n",
            "batch_normalization_60 (BatchNo (None, 876, 380)     1520        concatenate_26[0][0]             \n",
            "__________________________________________________________________________________________________\n",
            "batch_normalization_61 (BatchNo (None, 876, 380)     1520        conv1d_148[0][0]                 \n",
            "__________________________________________________________________________________________________\n",
            "activation_54 (Activation)      (None, 876, 380)     0           batch_normalization_60[0][0]     \n",
            "__________________________________________________________________________________________________\n",
            "add_7 (Add)                     (None, 876, 380)     0           batch_normalization_61[0][0]     \n",
            "                                                                 activation_54[0][0]              \n",
            "__________________________________________________________________________________________________\n",
            "activation_55 (Activation)      (None, 876, 380)     0           add_7[0][0]                      \n",
            "__________________________________________________________________________________________________\n",
            "conv1d_149 (Conv1D)             (None, 876, 32)      12160       activation_55[0][0]              \n",
            "__________________________________________________________________________________________________\n",
            "max_pooling1d_27 (MaxPooling1D) (None, 876, 380)     0           activation_55[0][0]              \n",
            "__________________________________________________________________________________________________\n",
            "conv1d_150 (Conv1D)             (None, 876, 95)      261440      conv1d_149[0][0]                 \n",
            "__________________________________________________________________________________________________\n",
            "conv1d_151 (Conv1D)             (None, 876, 95)      130720      conv1d_149[0][0]                 \n",
            "__________________________________________________________________________________________________\n",
            "conv1d_152 (Conv1D)             (None, 876, 95)      63840       conv1d_149[0][0]                 \n",
            "__________________________________________________________________________________________________\n",
            "conv1d_153 (Conv1D)             (None, 876, 95)      36100       max_pooling1d_27[0][0]           \n",
            "__________________________________________________________________________________________________\n",
            "concatenate_27 (Concatenate)    (None, 876, 380)     0           conv1d_150[0][0]                 \n",
            "                                                                 conv1d_151[0][0]                 \n",
            "                                                                 conv1d_152[0][0]                 \n",
            "                                                                 conv1d_153[0][0]                 \n",
            "__________________________________________________________________________________________________\n",
            "batch_normalization_62 (BatchNo (None, 876, 380)     1520        concatenate_27[0][0]             \n",
            "__________________________________________________________________________________________________\n",
            "activation_56 (Activation)      (None, 876, 380)     0           batch_normalization_62[0][0]     \n",
            "__________________________________________________________________________________________________\n",
            "global_average_pooling1d_5 (Glo (None, 380)          0           activation_56[0][0]              \n",
            "__________________________________________________________________________________________________\n",
            "dense_12 (Dense)                (None, 14)           5334        global_average_pooling1d_5[0][0] \n",
            "==================================================================================================\n",
            "Total params: 1,985,291\n",
            "Trainable params: 1,981,477\n",
            "Non-trainable params: 3,814\n",
            "__________________________________________________________________________________________________\n",
            " \n",
            "Model type:\n",
            "InceptionTime\n",
            " \n",
            "-------------------------------------------------------------------------------------------------------\n",
            "Model 4\n",
            " \n",
            "Hyperparameters:\n",
            "{'learning_rate': 0.02078164405234522, 'regularization_rate': 0.028275856339022715, 'filters': array([100,  77,  62]), 'fc_hidden_nodes': 280}\n",
            " \n",
            "Model description:\n",
            "Model: \"sequential_6\"\n",
            "_________________________________________________________________\n",
            "Layer (type)                 Output Shape              Param #   \n",
            "=================================================================\n",
            "batch_normalization_63 (Batc (None, 876, 7)            28        \n",
            "_________________________________________________________________\n",
            "conv1d_154 (Conv1D)          (None, 876, 100)          2200      \n",
            "_________________________________________________________________\n",
            "batch_normalization_64 (Batc (None, 876, 100)          400       \n",
            "_________________________________________________________________\n",
            "activation_57 (Activation)   (None, 876, 100)          0         \n",
            "_________________________________________________________________\n",
            "conv1d_155 (Conv1D)          (None, 876, 77)           23177     \n",
            "_________________________________________________________________\n",
            "batch_normalization_65 (Batc (None, 876, 77)           308       \n",
            "_________________________________________________________________\n",
            "activation_58 (Activation)   (None, 876, 77)           0         \n",
            "_________________________________________________________________\n",
            "conv1d_156 (Conv1D)          (None, 876, 62)           14384     \n",
            "_________________________________________________________________\n",
            "batch_normalization_66 (Batc (None, 876, 62)           248       \n",
            "_________________________________________________________________\n",
            "activation_59 (Activation)   (None, 876, 62)           0         \n",
            "_________________________________________________________________\n",
            "flatten_1 (Flatten)          (None, 54312)             0         \n",
            "_________________________________________________________________\n",
            "dense_13 (Dense)             (None, 280)               15207640  \n",
            "_________________________________________________________________\n",
            "activation_60 (Activation)   (None, 280)               0         \n",
            "_________________________________________________________________\n",
            "dense_14 (Dense)             (None, 14)                3934      \n",
            "_________________________________________________________________\n",
            "batch_normalization_67 (Batc (None, 14)                56        \n",
            "_________________________________________________________________\n",
            "activation_61 (Activation)   (None, 14)                0         \n",
            "=================================================================\n",
            "Total params: 15,252,375\n",
            "Trainable params: 15,251,855\n",
            "Non-trainable params: 520\n",
            "_________________________________________________________________\n",
            " \n",
            "Model type:\n",
            "CNN\n",
            " \n",
            "-------------------------------------------------------------------------------------------------------\n",
            "Model 5\n",
            " \n",
            "Hyperparameters:\n",
            "{'learning_rate': 0.0035476950600201243, 'regularization_rate': 0.011114547220372027, 'filters': [61, 65], 'lstm_dims': [2, 2, 2, 5]}\n",
            " \n",
            "Model description:\n",
            "Model: \"sequential_7\"\n",
            "_________________________________________________________________\n",
            "Layer (type)                 Output Shape              Param #   \n",
            "=================================================================\n",
            "batch_normalization_68 (Batc (None, 876, 7)            28        \n",
            "_________________________________________________________________\n",
            "reshape_10 (Reshape)         (None, 876, 7, 1)         0         \n",
            "_________________________________________________________________\n",
            "conv2d_8 (Conv2D)            (None, 876, 7, 61)        244       \n",
            "_________________________________________________________________\n",
            "batch_normalization_69 (Batc (None, 876, 7, 61)        244       \n",
            "_________________________________________________________________\n",
            "activation_62 (Activation)   (None, 876, 7, 61)        0         \n",
            "_________________________________________________________________\n",
            "conv2d_9 (Conv2D)            (None, 876, 7, 65)        11960     \n",
            "_________________________________________________________________\n",
            "batch_normalization_70 (Batc (None, 876, 7, 65)        260       \n",
            "_________________________________________________________________\n",
            "activation_63 (Activation)   (None, 876, 7, 65)        0         \n",
            "_________________________________________________________________\n",
            "reshape_11 (Reshape)         (None, 876, 455)          0         \n",
            "_________________________________________________________________\n",
            "lstm_11 (LSTM)               (None, 876, 2)            3664      \n",
            "_________________________________________________________________\n",
            "lstm_12 (LSTM)               (None, 876, 2)            40        \n",
            "_________________________________________________________________\n",
            "lstm_13 (LSTM)               (None, 876, 2)            40        \n",
            "_________________________________________________________________\n",
            "lstm_14 (LSTM)               (None, 876, 5)            160       \n",
            "_________________________________________________________________\n",
            "dropout_5 (Dropout)          (None, 876, 5)            0         \n",
            "_________________________________________________________________\n",
            "time_distributed_5 (TimeDist (None, 876, 14)           84        \n",
            "_________________________________________________________________\n",
            "activation_64 (Activation)   (None, 876, 14)           0         \n",
            "_________________________________________________________________\n",
            "lambda_5 (Lambda)            (None, 14)                0         \n",
            "=================================================================\n",
            "Total params: 16,724\n",
            "Trainable params: 16,458\n",
            "Non-trainable params: 266\n",
            "_________________________________________________________________\n",
            " \n",
            "Model type:\n",
            "DeepConvLSTM\n",
            " \n",
            "-------------------------------------------------------------------------------------------------------\n",
            "Model 6\n",
            " \n",
            "Hyperparameters:\n",
            "{'learning_rate': 0.00020091671127740314, 'regularization_rate': 0.00025945343734027715, 'filters': array([27, 98, 74, 44, 62]), 'fc_hidden_nodes': 445}\n",
            " \n",
            "Model description:\n",
            "Model: \"sequential_8\"\n",
            "_________________________________________________________________\n",
            "Layer (type)                 Output Shape              Param #   \n",
            "=================================================================\n",
            "batch_normalization_71 (Batc (None, 876, 7)            28        \n",
            "_________________________________________________________________\n",
            "conv1d_157 (Conv1D)          (None, 876, 27)           594       \n",
            "_________________________________________________________________\n",
            "batch_normalization_72 (Batc (None, 876, 27)           108       \n",
            "_________________________________________________________________\n",
            "activation_65 (Activation)   (None, 876, 27)           0         \n",
            "_________________________________________________________________\n",
            "conv1d_158 (Conv1D)          (None, 876, 98)           8036      \n",
            "_________________________________________________________________\n",
            "batch_normalization_73 (Batc (None, 876, 98)           392       \n",
            "_________________________________________________________________\n",
            "activation_66 (Activation)   (None, 876, 98)           0         \n",
            "_________________________________________________________________\n",
            "conv1d_159 (Conv1D)          (None, 876, 74)           21830     \n",
            "_________________________________________________________________\n",
            "batch_normalization_74 (Batc (None, 876, 74)           296       \n",
            "_________________________________________________________________\n",
            "activation_67 (Activation)   (None, 876, 74)           0         \n",
            "_________________________________________________________________\n",
            "conv1d_160 (Conv1D)          (None, 876, 44)           9812      \n",
            "_________________________________________________________________\n",
            "batch_normalization_75 (Batc (None, 876, 44)           176       \n",
            "_________________________________________________________________\n",
            "activation_68 (Activation)   (None, 876, 44)           0         \n",
            "_________________________________________________________________\n",
            "conv1d_161 (Conv1D)          (None, 876, 62)           8246      \n",
            "_________________________________________________________________\n",
            "batch_normalization_76 (Batc (None, 876, 62)           248       \n",
            "_________________________________________________________________\n",
            "activation_69 (Activation)   (None, 876, 62)           0         \n",
            "_________________________________________________________________\n",
            "flatten_2 (Flatten)          (None, 54312)             0         \n",
            "_________________________________________________________________\n",
            "dense_16 (Dense)             (None, 445)               24169285  \n",
            "_________________________________________________________________\n",
            "activation_70 (Activation)   (None, 445)               0         \n",
            "_________________________________________________________________\n",
            "dense_17 (Dense)             (None, 14)                6244      \n",
            "_________________________________________________________________\n",
            "batch_normalization_77 (Batc (None, 14)                56        \n",
            "_________________________________________________________________\n",
            "activation_71 (Activation)   (None, 14)                0         \n",
            "=================================================================\n",
            "Total params: 24,225,351\n",
            "Trainable params: 24,224,699\n",
            "Non-trainable params: 652\n",
            "_________________________________________________________________\n",
            " \n",
            "Model type:\n",
            "CNN\n",
            " \n",
            "-------------------------------------------------------------------------------------------------------\n",
            "Model 7\n",
            " \n",
            "Hyperparameters:\n",
            "{'learning_rate': 0.08517185017834596, 'regularization_rate': 0.02434314020384839, 'filters': [16, 65], 'lstm_dims': [1, 2, 5, 3]}\n",
            " \n",
            "Model description:\n",
            "Model: \"sequential_9\"\n",
            "_________________________________________________________________\n",
            "Layer (type)                 Output Shape              Param #   \n",
            "=================================================================\n",
            "batch_normalization_78 (Batc (None, 876, 7)            28        \n",
            "_________________________________________________________________\n",
            "reshape_12 (Reshape)         (None, 876, 7, 1)         0         \n",
            "_________________________________________________________________\n",
            "conv2d_10 (Conv2D)           (None, 876, 7, 16)        64        \n",
            "_________________________________________________________________\n",
            "batch_normalization_79 (Batc (None, 876, 7, 16)        64        \n",
            "_________________________________________________________________\n",
            "activation_72 (Activation)   (None, 876, 7, 16)        0         \n",
            "_________________________________________________________________\n",
            "conv2d_11 (Conv2D)           (None, 876, 7, 65)        3185      \n",
            "_________________________________________________________________\n",
            "batch_normalization_80 (Batc (None, 876, 7, 65)        260       \n",
            "_________________________________________________________________\n",
            "activation_73 (Activation)   (None, 876, 7, 65)        0         \n",
            "_________________________________________________________________\n",
            "reshape_13 (Reshape)         (None, 876, 455)          0         \n",
            "_________________________________________________________________\n",
            "lstm_15 (LSTM)               (None, 876, 1)            1828      \n",
            "_________________________________________________________________\n",
            "lstm_16 (LSTM)               (None, 876, 2)            32        \n",
            "_________________________________________________________________\n",
            "lstm_17 (LSTM)               (None, 876, 5)            160       \n",
            "_________________________________________________________________\n",
            "lstm_18 (LSTM)               (None, 876, 3)            108       \n",
            "_________________________________________________________________\n",
            "dropout_6 (Dropout)          (None, 876, 3)            0         \n",
            "_________________________________________________________________\n",
            "time_distributed_6 (TimeDist (None, 876, 14)           56        \n",
            "_________________________________________________________________\n",
            "activation_74 (Activation)   (None, 876, 14)           0         \n",
            "_________________________________________________________________\n",
            "lambda_6 (Lambda)            (None, 14)                0         \n",
            "=================================================================\n",
            "Total params: 5,785\n",
            "Trainable params: 5,609\n",
            "Non-trainable params: 176\n",
            "_________________________________________________________________\n",
            " \n",
            "Model type:\n",
            "DeepConvLSTM\n",
            " \n"
          ],
          "name": "stdout"
        }
      ]
    },
    {
      "cell_type": "code",
      "metadata": {
        "id": "fENT83SsP_gY",
        "colab_type": "code",
        "colab": {
          "base_uri": "https://localhost:8080/",
          "height": 901
        },
        "outputId": "fa02ee88-10cd-4a68-d4cb-2aa7c906dcdc"
      },
      "source": [
        "models"
      ],
      "execution_count": null,
      "outputs": [
        {
          "output_type": "execute_result",
          "data": {
            "text/plain": [
              "[(<tensorflow.python.keras.engine.sequential.Sequential at 0x7fe86b364390>,\n",
              "  {'filters': [37],\n",
              "   'learning_rate': 0.00017875020866105692,\n",
              "   'lstm_dims': [1, 3],\n",
              "   'regularization_rate': 0.001729798868006255},\n",
              "  'DeepConvLSTM'),\n",
              " (<tensorflow.python.keras.engine.training.Model at 0x7fe8651a5b00>,\n",
              "  {'filters_number': 66,\n",
              "   'learning_rate': 0.0008364032548025711,\n",
              "   'max_kernel_size': 48,\n",
              "   'network_depth': 6,\n",
              "   'regularization_rate': 0.0020284736624765487},\n",
              "  'InceptionTime'),\n",
              " (<tensorflow.python.keras.engine.training.Model at 0x7fe864b1e898>,\n",
              "  {'filters_number': 90,\n",
              "   'learning_rate': 0.00048359183405530893,\n",
              "   'max_kernel_size': 71,\n",
              "   'network_depth': 5,\n",
              "   'regularization_rate': 0.03086275195979217},\n",
              "  'InceptionTime'),\n",
              " (<tensorflow.python.keras.engine.sequential.Sequential at 0x7fe864b1e668>,\n",
              "  {'filters': [49, 28],\n",
              "   'learning_rate': 0.0057722005670236215,\n",
              "   'lstm_dims': [3, 5, 3, 4],\n",
              "   'regularization_rate': 0.0002641829094025879},\n",
              "  'DeepConvLSTM'),\n",
              " (<tensorflow.python.keras.engine.training.Model at 0x7fe863414940>,\n",
              "  {'filters_number': 40,\n",
              "   'learning_rate': 0.00016634669872637157,\n",
              "   'max_kernel_size': 31,\n",
              "   'network_depth': 6,\n",
              "   'regularization_rate': 0.0002706929199580729},\n",
              "  'InceptionTime'),\n",
              " (<tensorflow.python.keras.engine.sequential.Sequential at 0x7fe863414668>,\n",
              "  {'filters': [46, 38],\n",
              "   'learning_rate': 0.018565109904971806,\n",
              "   'lstm_dims': [1, 5, 5],\n",
              "   'regularization_rate': 0.04209482962450185},\n",
              "  'DeepConvLSTM'),\n",
              " (<tensorflow.python.keras.engine.sequential.Sequential at 0x7fe8629ab710>,\n",
              "  {'filters': [49, 30],\n",
              "   'learning_rate': 0.015906113764758624,\n",
              "   'lstm_dims': [3],\n",
              "   'regularization_rate': 0.03242745774882841},\n",
              "  'DeepConvLSTM'),\n",
              " (<tensorflow.python.keras.engine.training.Model at 0x7fe861da8cf8>,\n",
              "  {'filters_number': 94,\n",
              "   'learning_rate': 0.00013869914515916328,\n",
              "   'max_kernel_size': 24,\n",
              "   'network_depth': 3,\n",
              "   'regularization_rate': 0.0006562550599919811},\n",
              "  'InceptionTime')]"
            ]
          },
          "metadata": {
            "tags": []
          },
          "execution_count": 32
        }
      ]
    },
    {
      "cell_type": "code",
      "metadata": {
        "id": "IKOccPiyQB6A",
        "colab_type": "code",
        "colab": {}
      },
      "source": [
        "from mcfly.find_architecture import train_models_on_samples\n",
        "import os\n",
        "outputfile = os.path.join('/content/drive/My Drive/modelcomparison.json')\n",
        "histories, val_accuracies, val_losses = train_models_on_samples(X_train, y_train_binary,\n",
        "                                                                X_val, y_val_binary,\n",
        "                                                                models, nr_epochs=30,\n",
        "                                                                subset_size=300,\n",
        "                                                                early_stopping_patience = 5,\n",
        "                                                                verbose=True,\n",
        "                                                                outputfile=outputfile,\n",
        "                                                                metric='accuracy')"
      ],
      "execution_count": null,
      "outputs": []
    }
  ]
}