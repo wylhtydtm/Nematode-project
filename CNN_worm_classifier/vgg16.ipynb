{
  "nbformat": 4,
  "nbformat_minor": 0,
  "metadata": {
    "colab": {
      "name": "vgg16.ipynb",
      "provenance": [],
      "collapsed_sections": [],
      "mount_file_id": "11T4PPPAnaY37zWSPr-WCosH361KRx9R6",
      "authorship_tag": "ABX9TyMyA1MBhymrq0WZ1LC9NuU7",
      "include_colab_link": true
    },
    "kernelspec": {
      "name": "python3",
      "display_name": "Python 3"
    },
    "widgets": {
      "application/vnd.jupyter.widget-state+json": {
        "f8e970e1c0b044d5968f26f863400ac8": {
          "model_module": "@jupyter-widgets/controls",
          "model_name": "HBoxModel",
          "state": {
            "_view_name": "HBoxView",
            "_dom_classes": [],
            "_model_name": "HBoxModel",
            "_view_module": "@jupyter-widgets/controls",
            "_model_module_version": "1.5.0",
            "_view_count": null,
            "_view_module_version": "1.5.0",
            "box_style": "",
            "layout": "IPY_MODEL_e0a0ac8d35264fd99fb281c71ddc2e84",
            "_model_module": "@jupyter-widgets/controls",
            "children": [
              "IPY_MODEL_36a40b5d3534445ab263b0e5929c00a2",
              "IPY_MODEL_0090463a211941169b582d482af8e237"
            ]
          }
        },
        "e0a0ac8d35264fd99fb281c71ddc2e84": {
          "model_module": "@jupyter-widgets/base",
          "model_name": "LayoutModel",
          "state": {
            "_view_name": "LayoutView",
            "grid_template_rows": null,
            "right": null,
            "justify_content": null,
            "_view_module": "@jupyter-widgets/base",
            "overflow": null,
            "_model_module_version": "1.2.0",
            "_view_count": null,
            "flex_flow": null,
            "width": null,
            "min_width": null,
            "border": null,
            "align_items": null,
            "bottom": null,
            "_model_module": "@jupyter-widgets/base",
            "top": null,
            "grid_column": null,
            "overflow_y": null,
            "overflow_x": null,
            "grid_auto_flow": null,
            "grid_area": null,
            "grid_template_columns": null,
            "flex": null,
            "_model_name": "LayoutModel",
            "justify_items": null,
            "grid_row": null,
            "max_height": null,
            "align_content": null,
            "visibility": null,
            "align_self": null,
            "height": null,
            "min_height": null,
            "padding": null,
            "grid_auto_rows": null,
            "grid_gap": null,
            "max_width": null,
            "order": null,
            "_view_module_version": "1.2.0",
            "grid_template_areas": null,
            "object_position": null,
            "object_fit": null,
            "grid_auto_columns": null,
            "margin": null,
            "display": null,
            "left": null
          }
        },
        "36a40b5d3534445ab263b0e5929c00a2": {
          "model_module": "@jupyter-widgets/controls",
          "model_name": "FloatProgressModel",
          "state": {
            "_view_name": "ProgressView",
            "style": "IPY_MODEL_bde55a1023574efa9e268bdb0523750e",
            "_dom_classes": [],
            "description": "100%",
            "_model_name": "FloatProgressModel",
            "bar_style": "success",
            "max": 553433881,
            "_view_module": "@jupyter-widgets/controls",
            "_model_module_version": "1.5.0",
            "value": 553433881,
            "_view_count": null,
            "_view_module_version": "1.5.0",
            "orientation": "horizontal",
            "min": 0,
            "description_tooltip": null,
            "_model_module": "@jupyter-widgets/controls",
            "layout": "IPY_MODEL_a1c11e7ca8de44a09d9c69839cb9752c"
          }
        },
        "0090463a211941169b582d482af8e237": {
          "model_module": "@jupyter-widgets/controls",
          "model_name": "HTMLModel",
          "state": {
            "_view_name": "HTMLView",
            "style": "IPY_MODEL_1fe5e50251f240e0a254d3b5060d3ed0",
            "_dom_classes": [],
            "description": "",
            "_model_name": "HTMLModel",
            "placeholder": "​",
            "_view_module": "@jupyter-widgets/controls",
            "_model_module_version": "1.5.0",
            "value": " 528M/528M [00:03&lt;00:00, 173MB/s]",
            "_view_count": null,
            "_view_module_version": "1.5.0",
            "description_tooltip": null,
            "_model_module": "@jupyter-widgets/controls",
            "layout": "IPY_MODEL_2f0e1407c95743eb8af3987ad9d056dd"
          }
        },
        "bde55a1023574efa9e268bdb0523750e": {
          "model_module": "@jupyter-widgets/controls",
          "model_name": "ProgressStyleModel",
          "state": {
            "_view_name": "StyleView",
            "_model_name": "ProgressStyleModel",
            "description_width": "initial",
            "_view_module": "@jupyter-widgets/base",
            "_model_module_version": "1.5.0",
            "_view_count": null,
            "_view_module_version": "1.2.0",
            "bar_color": null,
            "_model_module": "@jupyter-widgets/controls"
          }
        },
        "a1c11e7ca8de44a09d9c69839cb9752c": {
          "model_module": "@jupyter-widgets/base",
          "model_name": "LayoutModel",
          "state": {
            "_view_name": "LayoutView",
            "grid_template_rows": null,
            "right": null,
            "justify_content": null,
            "_view_module": "@jupyter-widgets/base",
            "overflow": null,
            "_model_module_version": "1.2.0",
            "_view_count": null,
            "flex_flow": null,
            "width": null,
            "min_width": null,
            "border": null,
            "align_items": null,
            "bottom": null,
            "_model_module": "@jupyter-widgets/base",
            "top": null,
            "grid_column": null,
            "overflow_y": null,
            "overflow_x": null,
            "grid_auto_flow": null,
            "grid_area": null,
            "grid_template_columns": null,
            "flex": null,
            "_model_name": "LayoutModel",
            "justify_items": null,
            "grid_row": null,
            "max_height": null,
            "align_content": null,
            "visibility": null,
            "align_self": null,
            "height": null,
            "min_height": null,
            "padding": null,
            "grid_auto_rows": null,
            "grid_gap": null,
            "max_width": null,
            "order": null,
            "_view_module_version": "1.2.0",
            "grid_template_areas": null,
            "object_position": null,
            "object_fit": null,
            "grid_auto_columns": null,
            "margin": null,
            "display": null,
            "left": null
          }
        },
        "1fe5e50251f240e0a254d3b5060d3ed0": {
          "model_module": "@jupyter-widgets/controls",
          "model_name": "DescriptionStyleModel",
          "state": {
            "_view_name": "StyleView",
            "_model_name": "DescriptionStyleModel",
            "description_width": "",
            "_view_module": "@jupyter-widgets/base",
            "_model_module_version": "1.5.0",
            "_view_count": null,
            "_view_module_version": "1.2.0",
            "_model_module": "@jupyter-widgets/controls"
          }
        },
        "2f0e1407c95743eb8af3987ad9d056dd": {
          "model_module": "@jupyter-widgets/base",
          "model_name": "LayoutModel",
          "state": {
            "_view_name": "LayoutView",
            "grid_template_rows": null,
            "right": null,
            "justify_content": null,
            "_view_module": "@jupyter-widgets/base",
            "overflow": null,
            "_model_module_version": "1.2.0",
            "_view_count": null,
            "flex_flow": null,
            "width": null,
            "min_width": null,
            "border": null,
            "align_items": null,
            "bottom": null,
            "_model_module": "@jupyter-widgets/base",
            "top": null,
            "grid_column": null,
            "overflow_y": null,
            "overflow_x": null,
            "grid_auto_flow": null,
            "grid_area": null,
            "grid_template_columns": null,
            "flex": null,
            "_model_name": "LayoutModel",
            "justify_items": null,
            "grid_row": null,
            "max_height": null,
            "align_content": null,
            "visibility": null,
            "align_self": null,
            "height": null,
            "min_height": null,
            "padding": null,
            "grid_auto_rows": null,
            "grid_gap": null,
            "max_width": null,
            "order": null,
            "_view_module_version": "1.2.0",
            "grid_template_areas": null,
            "object_position": null,
            "object_fit": null,
            "grid_auto_columns": null,
            "margin": null,
            "display": null,
            "left": null
          }
        }
      }
    }
  },
  "cells": [
    {
      "cell_type": "markdown",
      "metadata": {
        "id": "view-in-github",
        "colab_type": "text"
      },
      "source": [
        "<a href=\"https://colab.research.google.com/github/wylhtydtm/Nematode-project/blob/master/vgg16.ipynb\" target=\"_parent\"><img src=\"https://colab.research.google.com/assets/colab-badge.svg\" alt=\"Open In Colab\"/></a>"
      ]
    },
    {
      "cell_type": "code",
      "metadata": {
        "id": "kQeMYkAmLvCu",
        "colab_type": "code",
        "colab": {}
      },
      "source": [
        "import torch\n",
        "import tables\n",
        "import numpy as np\n",
        "import pandas as pd\n",
        "from PIL import Image\n",
        "from pathlib import Path\n",
        "from torch.utils.data import Dataset, DataLoader\n",
        "from torchvision import transforms\n",
        "from torchvision import models\n",
        "import torch.optim as optim\n",
        "from torch.optim import lr_scheduler\n",
        "import torch.nn as nn\n",
        "import matplotlib.pyplot as plt\n",
        "import torchvision\n",
        "import torch.nn as nn\n",
        "import torch.nn.functional as F"
      ],
      "execution_count": null,
      "outputs": []
    },
    {
      "cell_type": "code",
      "metadata": {
        "id": "LAydM7NeM5o7",
        "colab_type": "code",
        "colab": {}
      },
      "source": [
        "!pip install livelossplot --quiet\n",
        "from livelossplot import PlotLosses"
      ],
      "execution_count": null,
      "outputs": []
    },
    {
      "cell_type": "code",
      "metadata": {
        "id": "9TF_ZSxeOcIw",
        "colab_type": "code",
        "colab": {}
      },
      "source": [
        "def shift_and_normalize(data):  #Preprocessing step \n",
        "    data_m = data.view(np.ma.MaskedArray)\n",
        "    data_m.mask = data==0\n",
        "    if data.ndim == 3:\n",
        "        sub_d = np.percentile(data, 95, axis=(1,2)) #let's use the 95th as the value of the background\n",
        "        data_m -= sub_d[:, None, None]\n",
        "    else:\n",
        "        sub_d = np.percentile(data, 95)\n",
        "        data_m -= sub_d\n",
        "        \n",
        "    data /= 255\n",
        "    return data"
      ],
      "execution_count": null,
      "outputs": []
    },
    {
      "cell_type": "code",
      "metadata": {
        "id": "UQm1kE2_ILaI",
        "colab_type": "code",
        "colab": {}
      },
      "source": [
        "def img_rescale(img, for_pillow=False):\n",
        "    \"\"\"\n",
        "    Rescale the image between 0 and 1, make it 3D if it was just 2D.\n",
        "    Unlike prep_for_pytorch, no need to make it 4d (batches) because\n",
        "    the images will be loaded through the dataloader, and that will already\n",
        "    create the 4d batches.\n",
        "    In tierpsy, I manually make a N_images x channels x width x height batches,\n",
        "    and the input to prep_for_pytorch is n_images x w x h (because grayscale)\n",
        "    While here the ndim==3 refers to channels...\n",
        "    If you don't use the dataloader, you'll still need to add one dimension\n",
        "    in the appropriate place\"\"\"\n",
        "    assert img.ndim==2, 'img_rescale only works with 2d array for now'\n",
        "    img = img - img.min()\n",
        "    img = img / img.max()\n",
        "    if for_pillow:\n",
        "        img *= 255\n",
        "        img = img.astype(np.uint8)\n",
        "    else:\n",
        "        img = img.astype(np.float32)[None, :, :] # c,w,h\n",
        "    return img"
      ],
      "execution_count": null,
      "outputs": []
    },
    {
      "cell_type": "code",
      "metadata": {
        "id": "l5xP9sngIRsB",
        "colab_type": "code",
        "colab": {}
      },
      "source": [
        "class new_dataset(Dataset):\n",
        "\n",
        "    def __init__(self, hdf5_filename, which_set='train', transform=None):\n",
        "\n",
        "        self.fname = hdf5_filename\n",
        "        self.set_name = which_set\n",
        "        # get labels info\n",
        "        with tables.File(self.fname, 'r') as fid:\n",
        "            tmp = pd.DataFrame.from_records(\n",
        "                fid.get_node('/'+self.set_name)['sample_data'].read())\n",
        "        self.label_info = tmp[['img_row_id', 'is_worm', 'is_avelinos']]\n",
        "        # size in hdf5 file is 160x160 (in theory), but we train on 80x80\n",
        "        self.roi_size = 80  # size we want to train on\n",
        "        with tables.File(self.fname, 'r') as fid:\n",
        "            dataset_size = fid.get_node('/train/mask').shape[1]\n",
        "        pad = (dataset_size - self.roi_size)/2\n",
        "        self.dd = [pad, dataset_size-pad]\n",
        "        # any transform?\n",
        "        self.transform = transform\n",
        "\n",
        "    def __len__(self):\n",
        "        return len(self.label_info)\n",
        "\n",
        "    def __getitem__(self, index):\n",
        "        if torch.is_tensor(index):\n",
        "            index = index.tolist()\n",
        "\n",
        "        # I could just use index because img_row_id is the same as the index of\n",
        "        # label_info, but just in case we ever want to shuffle...\n",
        "        label_info = self.label_info.iloc[index]\n",
        "        img_row_id = label_info['img_row_id']\n",
        "        # read images from disk\n",
        "        # I could just use index because img_row_id is the same as the index of\n",
        "        # label_info, but just in case we ever want to shuffle...\n",
        "        label_info = self.label_info.iloc[index]\n",
        "        img_row_id = label_info['img_row_id']\n",
        "        # read images from disk\n",
        "        with tables.File(self.fname, 'r') as fid:\n",
        "          roi_data = fid.get_node(\n",
        "                '/' + self.set_name + '/mask')[img_row_id,\n",
        "                                               self.dd[0]:self.dd[1],\n",
        "                                               self.dd[0]:self.dd[1]].copy()\n",
        "\n",
        "        # shift_and_normalize wants a float, and pytorch a single, use single\n",
        "        img = roi_data.astype(np.float32)\n",
        "        img = shift_and_normalize(img)\n",
        "\n",
        "        # as of now, the model works even without PIL\n",
        "        # but transform only works with pil, so:\n",
        "        if self.transform:  # if any transforms were given to initialiser\n",
        "            img = img_rescale(img, for_pillow=True)\n",
        "            img = Image.fromarray(img)\n",
        "            img = img.convert(mode='RGB')\n",
        "            img = self.transform(img)\n",
        "      \n",
        "        else:\n",
        "            img = img_rescale(img, for_pillow=False)\n",
        "\n",
        "        # read labels too\n",
        "        labels = label_info['is_worm']\n",
        "        labels = np.array(labels, dtype=np.float32).reshape(-1, 1)\n",
        "        labels = torch.from_numpy(labels)\n",
        "\n",
        "        return img, labels"
      ],
      "execution_count": null,
      "outputs": []
    },
    {
      "cell_type": "code",
      "metadata": {
        "id": "IYqzMLsCOt0-",
        "colab_type": "code",
        "colab": {}
      },
      "source": [
        "# where are things?\n",
        "hd = Path('/content/drive/My Drive')\n",
        "fname = hd / 'Hydra_Phenix_dataset.hdf5'\n",
        "\n",
        "# parameters\n",
        "use_cuda = torch.cuda.is_available()\n",
        "device = torch.device(\"cuda\" if use_cuda else \"cpu\")\n",
        "batch_size = 128\n",
        "\n",
        "# define transforms\n",
        "# do we need vertical/hor flip?\n",
        "training_transform = transforms.Compose([transforms.RandomVerticalFlip(p=0.4),\n",
        "                                         transforms.RandomHorizontalFlip(p=0.4),\n",
        "                                         transforms.ColorJitter(contrast=0.2, hue=0.2),\n",
        "                                         transforms.ToTensor()])\n",
        "\n",
        "validation_transform = transforms.Compose([transforms.RandomVerticalFlip(p=0.4),\n",
        "                                           transforms.RandomHorizontalFlip(p=0.4),\n",
        "                                           transforms.ColorJitter(contrast=0.2, hue=0.2),\n",
        "                                           transforms.ToTensor()])\n",
        "    \n",
        "test_transform = transforms.ToTensor()\n",
        "\n",
        "\n",
        "    # create datasets\n",
        "train_data = new_dataset(fname, which_set='train',transform=training_transform)\n",
        "val_data = new_dataset(fname, which_set='val',transform=validation_transform)\n",
        "test_data = new_dataset(fname, which_set='test',transform=test_transform)\n",
        "\n",
        "\n",
        "    # create dataloaders\n",
        "train_loader = DataLoader(train_data, shuffle=True, batch_size=batch_size, num_workers=4)\n",
        "val_loader = DataLoader(val_data, shuffle=True, batch_size=batch_size, num_workers=4)\n",
        "test_loader= DataLoader(test_data,shuffle=True, batch_size=batch_size, num_workers=4)"
      ],
      "execution_count": null,
      "outputs": []
    },
    {
      "cell_type": "code",
      "metadata": {
        "id": "BHNq6Pv9PH_g",
        "colab_type": "code",
        "colab": {}
      },
      "source": [
        "dataloaders = {\n",
        "    \"train\": train_loader,\n",
        "    \"validation\": val_loader\n",
        "}\n",
        "dataset_sizes = {'train':len(train_loader.dataset), 'validation':len(val_loader.dataset)}"
      ],
      "execution_count": null,
      "outputs": []
    },
    {
      "cell_type": "code",
      "metadata": {
        "id": "s0GGKd5RPMLn",
        "colab_type": "code",
        "colab": {
          "base_uri": "https://localhost:8080/",
          "height": 34
        },
        "outputId": "0a696027-aa52-4702-b170-ef3361edbe28"
      },
      "source": [
        "# Checking whether the input image has the right channel\n",
        "img = train_data[0][0]\n",
        "img =img.unsqueeze(0)\n",
        "print(img.size())"
      ],
      "execution_count": null,
      "outputs": [
        {
          "output_type": "stream",
          "text": [
            "torch.Size([1, 3, 80, 80])\n"
          ],
          "name": "stdout"
        }
      ]
    },
    {
      "cell_type": "code",
      "metadata": {
        "id": "KJJrrp0OPM8z",
        "colab_type": "code",
        "colab": {
          "base_uri": "https://localhost:8080/",
          "height": 103,
          "referenced_widgets": [
            "f8e970e1c0b044d5968f26f863400ac8",
            "e0a0ac8d35264fd99fb281c71ddc2e84",
            "36a40b5d3534445ab263b0e5929c00a2",
            "0090463a211941169b582d482af8e237",
            "bde55a1023574efa9e268bdb0523750e",
            "a1c11e7ca8de44a09d9c69839cb9752c",
            "1fe5e50251f240e0a254d3b5060d3ed0",
            "2f0e1407c95743eb8af3987ad9d056dd"
          ]
        },
        "outputId": "f4cfe53e-11be-4680-9490-e08c766333bb"
      },
      "source": [
        "model_vgg = torchvision.models.vgg16(pretrained=True)\n",
        "for param in model_vgg.parameters():\n",
        "    param.requires_grad = False  # freeze all network except the final layer in model_conv ResNeT18 for training\n",
        "        \n",
        "num_ftrs = model_vgg.classifier[6].in_features # to discover parameters of newly constructed modules \n",
        "model_vgg.classifier[6] = nn.Linear(num_ftrs, 2) #the final layer in our model, 2 classes only\n",
        "    \n",
        "model_vgg = model_vgg.to(device)    \n",
        "learning_rate = 0.0001\n",
        "num_epoch = 50  # gradient descent that controls no of complete passes through the training dataset\n",
        "    \n",
        "criterion = torch.nn.CrossEntropyLoss()\n",
        "optimiser_vgg = torch.optim.Adam(model_vgg.parameters(),lr=learning_rate)"
      ],
      "execution_count": null,
      "outputs": [
        {
          "output_type": "stream",
          "text": [
            "Downloading: \"https://download.pytorch.org/models/vgg16-397923af.pth\" to /root/.cache/torch/hub/checkpoints/vgg16-397923af.pth\n"
          ],
          "name": "stderr"
        },
        {
          "output_type": "display_data",
          "data": {
            "application/vnd.jupyter.widget-view+json": {
              "model_id": "f8e970e1c0b044d5968f26f863400ac8",
              "version_minor": 0,
              "version_major": 2
            },
            "text/plain": [
              "HBox(children=(FloatProgress(value=0.0, max=553433881.0), HTML(value='')))"
            ]
          },
          "metadata": {
            "tags": []
          }
        },
        {
          "output_type": "stream",
          "text": [
            "\n"
          ],
          "name": "stdout"
        }
      ]
    },
    {
      "cell_type": "code",
      "metadata": {
        "id": "xFRDBLwSRLse",
        "colab_type": "code",
        "colab": {}
      },
      "source": [
        "import time\n",
        "import copy\n",
        "\n",
        "def train_model(model, criterion, optimiser, num_epoch):\n",
        "    since = time.time()\n",
        "\n",
        "    best_model_wts = copy.deepcopy(model.state_dict())\n",
        "    best_acc = 0.0\n",
        "\n",
        "    Liveloss= PlotLosses()   \n",
        "    #Iterate through epochs\n",
        "    for epoch in range(num_epoch):\n",
        "        logs = {}\n",
        "        print('Epoch{}/{}'.format(epoch, num_epoch -1))\n",
        "        print('-' * 15)\n",
        "  \n",
        "        #Each epoch has a training and validation phase        \n",
        "        for phase in ['train', 'validation']:\n",
        "            if phase == 'train':\n",
        "                model.train()\n",
        "              \n",
        "            else:\n",
        "                model.eval()\n",
        "                \n",
        "            running_loss = 0.0\n",
        "            running_corrects = 0\n",
        "        \n",
        "            for ii, (inputs, labels) in enumerate (dataloaders[phase]):\n",
        "                inputs,labels = inputs.to(device), labels.to(device)\n",
        "                labels = labels.view(-1)\n",
        "                labels = labels.long()\n",
        "                optimiser.zero_grad()\n",
        "\n",
        "                with torch.set_grad_enabled(phase == 'train'):\n",
        "                    outputs = model(inputs)\n",
        "                    _, pred = torch.max(outputs, dim= 1)      \n",
        "                    loss = criterion(outputs, labels)\n",
        "                                   \n",
        "                  #backward and optimze only in the training pahse\n",
        "                    if phase == 'train':\n",
        "                        loss.backward()  #Loss and backpropagation\n",
        "                        optimiser.step()\n",
        "\n",
        "                _, pred = torch.max(outputs, dim= 1)              \n",
        "                running_loss += loss.detach()  * inputs.size(0) \n",
        "                running_corrects += torch.sum(pred == labels.data)\n",
        "\n",
        "\n",
        "             # calculate average losses fo the entire epoch\n",
        "            epoch_loss = running_loss / dataset_sizes[phase]\n",
        "            epoch_acc = running_corrects.float() / dataset_sizes[phase]\n",
        "\n",
        "            prefix = ''\n",
        "            if phase == 'validation':\n",
        "                prefix = 'val_'\n",
        "                \n",
        "            logs[prefix + ' loss'] = epoch_loss\n",
        "            logs[prefix + 'accuracy'] = epoch_acc\n",
        "                                               \n",
        "            print('{} Loss: {:.4f} Acc: {:.4f}'.format(\n",
        "                phase, epoch_loss, epoch_acc))\n",
        "                 \n",
        "            #Ddeep copy the model\n",
        "            if phase == 'validation' and epoch_acc > best_acc:\n",
        "                best_acc = epoch_acc\n",
        "                best_model_wts = copy.deepcopy(model.state_dict())\n",
        "        \n",
        "        Liveloss.update(logs)\n",
        "        Liveloss.send()\n",
        "\n",
        "        print()\n",
        "        \n",
        "    time_elapsed = time.time() - since\n",
        "    print('Training complete in {:.0f}m {:.0f}s. Saving model...'.format(time_elapsed //60, time_elapsed % 60))\n",
        "    print('Best Val Acc: {.4f}'.format(best_acc)) \n",
        "    model.load_state_dic(best_model_wts)\n",
        "    return model  "
      ],
      "execution_count": null,
      "outputs": []
    },
    {
      "cell_type": "code",
      "metadata": {
        "id": "V4twh_EHP2Pb",
        "colab_type": "code",
        "colab": {}
      },
      "source": [
        "model_vgg=train_model(model_vgg, criterion, optimiser_vgg, num_epoch)"
      ],
      "execution_count": null,
      "outputs": []
    },
    {
      "cell_type": "code",
      "metadata": {
        "id": "SWtPIDP3uTC6",
        "colab_type": "code",
        "colab": {}
      },
      "source": [
        "PATH= '/content/drive/My Drive/vgg16_epoch20_sgd.pth'\n",
        "torch.save(model_vgg.state_dict(), PATH)"
      ],
      "execution_count": null,
      "outputs": []
    },
    {
      "cell_type": "code",
      "metadata": {
        "id": "j7tLBQ4Jm7pN",
        "colab_type": "code",
        "colab": {
          "base_uri": "https://localhost:8080/",
          "height": 34
        },
        "outputId": "8aaeb4aa-e9cb-42e9-ed47-0f300eeb7cfc"
      },
      "source": [
        "device = torch.device('cpu')\n",
        "model_vgg = model_vgg.to(device)   \n",
        "model_vgg.load_state_dict(torch.load('drive/My Drive/vgg16_epoch20_adam.pth',map_location=device))"
      ],
      "execution_count": null,
      "outputs": [
        {
          "output_type": "execute_result",
          "data": {
            "text/plain": [
              "<All keys matched successfully>"
            ]
          },
          "metadata": {
            "tags": []
          },
          "execution_count": 9
        }
      ]
    },
    {
      "cell_type": "code",
      "metadata": {
        "id": "yYj7NPaNnIq0",
        "colab_type": "code",
        "colab": {
          "base_uri": "https://localhost:8080/",
          "height": 782
        },
        "outputId": "8149aa16-05b0-43d1-c40a-05266f0b3774"
      },
      "source": [
        "model_vgg.eval()"
      ],
      "execution_count": null,
      "outputs": [
        {
          "output_type": "execute_result",
          "data": {
            "text/plain": [
              "VGG(\n",
              "  (features): Sequential(\n",
              "    (0): Conv2d(3, 64, kernel_size=(3, 3), stride=(1, 1), padding=(1, 1))\n",
              "    (1): ReLU(inplace=True)\n",
              "    (2): Conv2d(64, 64, kernel_size=(3, 3), stride=(1, 1), padding=(1, 1))\n",
              "    (3): ReLU(inplace=True)\n",
              "    (4): MaxPool2d(kernel_size=2, stride=2, padding=0, dilation=1, ceil_mode=False)\n",
              "    (5): Conv2d(64, 128, kernel_size=(3, 3), stride=(1, 1), padding=(1, 1))\n",
              "    (6): ReLU(inplace=True)\n",
              "    (7): Conv2d(128, 128, kernel_size=(3, 3), stride=(1, 1), padding=(1, 1))\n",
              "    (8): ReLU(inplace=True)\n",
              "    (9): MaxPool2d(kernel_size=2, stride=2, padding=0, dilation=1, ceil_mode=False)\n",
              "    (10): Conv2d(128, 256, kernel_size=(3, 3), stride=(1, 1), padding=(1, 1))\n",
              "    (11): ReLU(inplace=True)\n",
              "    (12): Conv2d(256, 256, kernel_size=(3, 3), stride=(1, 1), padding=(1, 1))\n",
              "    (13): ReLU(inplace=True)\n",
              "    (14): Conv2d(256, 256, kernel_size=(3, 3), stride=(1, 1), padding=(1, 1))\n",
              "    (15): ReLU(inplace=True)\n",
              "    (16): MaxPool2d(kernel_size=2, stride=2, padding=0, dilation=1, ceil_mode=False)\n",
              "    (17): Conv2d(256, 512, kernel_size=(3, 3), stride=(1, 1), padding=(1, 1))\n",
              "    (18): ReLU(inplace=True)\n",
              "    (19): Conv2d(512, 512, kernel_size=(3, 3), stride=(1, 1), padding=(1, 1))\n",
              "    (20): ReLU(inplace=True)\n",
              "    (21): Conv2d(512, 512, kernel_size=(3, 3), stride=(1, 1), padding=(1, 1))\n",
              "    (22): ReLU(inplace=True)\n",
              "    (23): MaxPool2d(kernel_size=2, stride=2, padding=0, dilation=1, ceil_mode=False)\n",
              "    (24): Conv2d(512, 512, kernel_size=(3, 3), stride=(1, 1), padding=(1, 1))\n",
              "    (25): ReLU(inplace=True)\n",
              "    (26): Conv2d(512, 512, kernel_size=(3, 3), stride=(1, 1), padding=(1, 1))\n",
              "    (27): ReLU(inplace=True)\n",
              "    (28): Conv2d(512, 512, kernel_size=(3, 3), stride=(1, 1), padding=(1, 1))\n",
              "    (29): ReLU(inplace=True)\n",
              "    (30): MaxPool2d(kernel_size=2, stride=2, padding=0, dilation=1, ceil_mode=False)\n",
              "  )\n",
              "  (avgpool): AdaptiveAvgPool2d(output_size=(7, 7))\n",
              "  (classifier): Sequential(\n",
              "    (0): Linear(in_features=25088, out_features=4096, bias=True)\n",
              "    (1): ReLU(inplace=True)\n",
              "    (2): Dropout(p=0.5, inplace=False)\n",
              "    (3): Linear(in_features=4096, out_features=4096, bias=True)\n",
              "    (4): ReLU(inplace=True)\n",
              "    (5): Dropout(p=0.5, inplace=False)\n",
              "    (6): Linear(in_features=4096, out_features=2, bias=True)\n",
              "  )\n",
              ")"
            ]
          },
          "metadata": {
            "tags": []
          },
          "execution_count": 10
        }
      ]
    },
    {
      "cell_type": "code",
      "metadata": {
        "id": "0bUR7KdXnN8Q",
        "colab_type": "code",
        "colab": {}
      },
      "source": [
        "from torchsummary import summary\n",
        "summary(model_vgg,(3, 80, 80))"
      ],
      "execution_count": null,
      "outputs": []
    },
    {
      "cell_type": "code",
      "metadata": {
        "id": "vbYf7sju99YX",
        "colab_type": "code",
        "colab": {}
      },
      "source": [
        "def measure_performance(predictions, labels):\n",
        "    \"\"\"\n",
        "    I think there's scikit learn functions for this\n",
        "    but found out after writing the function\n",
        "    \"\"\"\n",
        "    # go logical for ease\n",
        "    predictions = predictions.astype(bool)\n",
        "    labels = labels.astype(bool)\n",
        "    # true positives\n",
        "    tp = np.logical_and(predictions, labels).sum()\n",
        "    # true negatives\n",
        "    tn = np.logical_and(~predictions, ~labels).sum()\n",
        "    # false positives\n",
        "    fp = np.logical_and(predictions, ~labels).sum()\n",
        "    # false negatives\n",
        "    fn = np.logical_and(~predictions, labels).sum()\n",
        "    # accuracy\n",
        "    accuracy = (tp + tn) / len(predictions)\n",
        "    print(f\"accuracy = {accuracy}\")\n",
        "    # precision\n",
        "    precision = tp / (tp + fp)\n",
        "    print(f\"precision = {precision}\")\n",
        "    # recall\n",
        "    recall = tp / (tp + fn)\n",
        "    print(f\"recall = {recall}\")\n",
        "    # F1\n",
        "    f1 = 2*tp / (2*tp + fp + fn)\n",
        "    print(f\"F1 score = {f1}\")\n",
        "    return"
      ],
      "execution_count": null,
      "outputs": []
    },
    {
      "cell_type": "code",
      "metadata": {
        "id": "ZLu99bXanQJU",
        "colab_type": "code",
        "colab": {}
      },
      "source": [
        "labels = []\n",
        "predictions = []\n",
        "with torch.no_grad():\n",
        "  for images, labs in test_loader:\n",
        "    images = images.to(device)\n",
        "    preds = model_vgg(images)\n",
        "    preds = torch.argmax(preds, axis=1)\n",
        "    predictions.append(preds)\n",
        "    labels.append(labs)\n",
        "\n",
        "  predictions = np.concatenate(predictions, axis=0)\n",
        "  labels = np.concatenate(labels, axis=0).squeeze()\n",
        "\n",
        "print(\"\\nPerformance \")\n",
        "measure_performance(predictions, labels)"
      ],
      "execution_count": null,
      "outputs": []
    },
    {
      "cell_type": "code",
      "metadata": {
        "id": "RENY1VyyWsxu",
        "colab_type": "code",
        "colab": {}
      },
      "source": [
        "model_vgg=train_model(model_vgg, criterion, optimiser_vgg, exp_lr_scheduler,num_epoch)"
      ],
      "execution_count": null,
      "outputs": []
    }
  ]
}